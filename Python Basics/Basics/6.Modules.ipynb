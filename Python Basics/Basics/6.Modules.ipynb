{
 "cells": [
  {
   "cell_type": "code",
   "execution_count": null,
   "metadata": {},
   "outputs": [],
   "source": [
    "\"\"\"\"\n",
    "1. Definitions from a module can be imported into other modules or into the main module\n",
    "2. A module is a file containing Python definitions and statements. \n",
    "   The file name is the module name with the suffix .py appended.\n",
    "3. A module can contain executable statements as well as function definitions.\n",
    "   These statements are intended to initialize the module. \n",
    "   They are executed only the first time the module name is encountered in an import statement. \n",
    "4. If the module name is followed by as, then the name following as is bound directly to the imported module.\n",
    "5. For efficiency reasons, each module is only imported once per interpreter session.\n",
    "   Therefore, if you change your modules, you must restart the interpreter – or, if it’s just one module you \n",
    "   want to test interactively, use importlib.reload(), e.g. import importlib; importlib.reload(modulename).\n",
    "\"\"\"\""
   ]
  },
  {
   "cell_type": "code",
   "execution_count": 2,
   "metadata": {},
   "outputs": [],
   "source": [
    "from fibo import fib"
   ]
  },
  {
   "cell_type": "code",
   "execution_count": 3,
   "metadata": {},
   "outputs": [
    {
     "name": "stdout",
     "output_type": "stream",
     "text": [
      "0 1 1 2 3 5 8 13 21 34 55 89 144 233 377 \n"
     ]
    }
   ],
   "source": [
    "fib(500)"
   ]
  },
  {
   "cell_type": "code",
   "execution_count": null,
   "metadata": {},
   "outputs": [],
   "source": [
    "#if you want to import all name of a module \n",
    "from fibo import *"
   ]
  },
  {
   "cell_type": "code",
   "execution_count": 4,
   "metadata": {},
   "outputs": [
    {
     "name": "stdout",
     "output_type": "stream",
     "text": [
      "0 1 1 2 3 5 8 13 21 34 55 89 144 233 377 \n"
     ]
    }
   ],
   "source": [
    "#use module name as an alias\n",
    "import fibo as fib\n",
    "fib.fib(500)"
   ]
  },
  {
   "cell_type": "code",
   "execution_count": 5,
   "metadata": {},
   "outputs": [
    {
     "name": "stdout",
     "output_type": "stream",
     "text": [
      "0 1 1 2 3 5 8 13 21 34 55 89 144 233 377 \n"
     ]
    }
   ],
   "source": [
    "from fibo import fib as fibonacci\n",
    "fibonacci(500)"
   ]
  },
  {
   "cell_type": "code",
   "execution_count": 6,
   "metadata": {},
   "outputs": [
    {
     "ename": "SyntaxError",
     "evalue": "invalid syntax (<ipython-input-6-5aa9f8e130a8>, line 1)",
     "output_type": "error",
     "traceback": [
      "\u001b[1;36m  File \u001b[1;32m\"<ipython-input-6-5aa9f8e130a8>\"\u001b[1;36m, line \u001b[1;32m1\u001b[0m\n\u001b[1;33m    python fibo.py 50\u001b[0m\n\u001b[1;37m           ^\u001b[0m\n\u001b[1;31mSyntaxError\u001b[0m\u001b[1;31m:\u001b[0m invalid syntax\n"
     ]
    }
   ],
   "source": [
    "python fibo.py 50"
   ]
  },
  {
   "cell_type": "code",
   "execution_count": 7,
   "metadata": {},
   "outputs": [],
   "source": [
    "                                                #MODULE SEARCH PATH"
   ]
  },
  {
   "cell_type": "code",
   "execution_count": null,
   "metadata": {},
   "outputs": [],
   "source": [
    "\"\"\"\n",
    "1.When a module named spam is imported, the interpreter first searches for a built-in module with that name.\n",
    "  Else, it searches in the following\n",
    "    a. The directory containing the input script (or the current directory when no file is specified).\n",
    "    b. PYTHONPATH (a list of directory names, with the same syntax as the shell variable PATH).\n",
    "    c. The installation-dependent default.\n",
    "\"\"\""
   ]
  },
  {
   "cell_type": "code",
   "execution_count": 9,
   "metadata": {},
   "outputs": [],
   "source": [
    "                                                #COMPILED PYTHON FILES"
   ]
  },
  {
   "cell_type": "code",
   "execution_count": null,
   "metadata": {},
   "outputs": [],
   "source": [
    "\"\"\"\n",
    "1. Python caches the compiled version of each module in the __pycache__ directory under the name module.version.pyc,\n",
    "   where the version encodes the format of the compiled file; it generally contains the Python version number.\n",
    "   \n",
    "   For example, in CPython release 3.3 the compiled version of spam.py would be cached as __pycache__/spam.cpython-33.pyc.\n",
    "   This naming convention allows compiled modules from different releases and different versions of Python to coexist.\n",
    "   \n",
    "2. Python checks the modification date of the source against the compiled version to see if it’s out of date and needs \n",
    "   to be recompiled. This is a completely automatic process. \n",
    "   Also, the compiled modules are platform-independent, so the same library can be shared among systems\n",
    "   with different architectures.\n",
    "   \n",
    "3. Python does not check the cache in two circumstances. First, it always recompiles and does not\n",
    "   store the result for the module that’s loaded directly from the command line. Second, it does not check \n",
    "   the cache if there is no source module. To support a non-source (compiled only) distribution, the compiled\n",
    "   module must be in the source directory, and there must not be a source module.\n",
    "\"\"\""
   ]
  },
  {
   "cell_type": "code",
   "execution_count": 10,
   "metadata": {},
   "outputs": [],
   "source": [
    "                                                        #TIPS"
   ]
  },
  {
   "cell_type": "code",
   "execution_count": null,
   "metadata": {},
   "outputs": [],
   "source": [
    "\"\"\"\n",
    "1. You can use the -O or -OO switches on the Python command to reduce the size of a compiled module.\n",
    "   The -O switch removes assert statements, the -OO switch removes both assert statements and __doc__ strings. \n",
    "   Since some programs may rely on having these available, you should only use this option if you know what\n",
    "   you’re doing. “Optimized” modules have an opt- tag and are usually smaller. Future releases may change \n",
    "   the effects of optimization.\n",
    "\n",
    "2. A program doesn’t run any faster when it is read from a .pyc file than when it is read from a .py file;\n",
    "   the only thing that’s faster about .pyc files is the speed with which they are loaded.\n",
    "\n",
    "3. The module compileall can create .pyc files for all modules in a directory.\n",
    "\"\"\""
   ]
  },
  {
   "cell_type": "code",
   "execution_count": 11,
   "metadata": {},
   "outputs": [
    {
     "data": {
      "text/plain": [
       "'In : '"
      ]
     },
     "execution_count": 11,
     "metadata": {},
     "output_type": "execute_result"
    }
   ],
   "source": [
    "import sys\n",
    "sys.ps1"
   ]
  },
  {
   "cell_type": "code",
   "execution_count": 12,
   "metadata": {},
   "outputs": [],
   "source": [
    "sys.ps1 = 'C>'"
   ]
  },
  {
   "cell_type": "code",
   "execution_count": 13,
   "metadata": {},
   "outputs": [
    {
     "data": {
      "text/plain": [
       "['__builtins__',\n",
       " '__cached__',\n",
       " '__doc__',\n",
       " '__file__',\n",
       " '__loader__',\n",
       " '__name__',\n",
       " '__package__',\n",
       " '__spec__',\n",
       " 'fib',\n",
       " 'fib2']"
      ]
     },
     "execution_count": 13,
     "metadata": {},
     "output_type": "execute_result"
    }
   ],
   "source": [
    "                                                    #DIR function\n",
    "#The built-in function dir() is used to find out which names a module defines. It returns a sorted list of strings:\n",
    "import fibo,sys\n",
    "dir(fibo)"
   ]
  },
  {
   "cell_type": "code",
   "execution_count": 14,
   "metadata": {},
   "outputs": [
    {
     "data": {
      "text/plain": [
       "['In',\n",
       " 'Out',\n",
       " '_',\n",
       " '_11',\n",
       " '_13',\n",
       " '_8',\n",
       " '__',\n",
       " '___',\n",
       " '__builtin__',\n",
       " '__builtins__',\n",
       " '__doc__',\n",
       " '__loader__',\n",
       " '__name__',\n",
       " '__package__',\n",
       " '__spec__',\n",
       " '_dh',\n",
       " '_i',\n",
       " '_i1',\n",
       " '_i10',\n",
       " '_i11',\n",
       " '_i12',\n",
       " '_i13',\n",
       " '_i14',\n",
       " '_i2',\n",
       " '_i3',\n",
       " '_i4',\n",
       " '_i5',\n",
       " '_i6',\n",
       " '_i7',\n",
       " '_i8',\n",
       " '_i9',\n",
       " '_ih',\n",
       " '_ii',\n",
       " '_iii',\n",
       " '_oh',\n",
       " 'exit',\n",
       " 'fib',\n",
       " 'fibo',\n",
       " 'fibonacci',\n",
       " 'get_ipython',\n",
       " 'quit',\n",
       " 'sys']"
      ]
     },
     "execution_count": 14,
     "metadata": {},
     "output_type": "execute_result"
    }
   ],
   "source": [
    "#Without arguments, dir() lists the names you have defined currently\\\n",
    "dir()"
   ]
  },
  {
   "cell_type": "code",
   "execution_count": 15,
   "metadata": {},
   "outputs": [],
   "source": [
    "                                            #PACKAGES"
   ]
  },
  {
   "cell_type": "code",
   "execution_count": null,
   "metadata": {},
   "outputs": [],
   "source": [
    "\"\"\"\n",
    "The __init__.py files are required to make Python treat directories containing the file as packages.\n",
    "This prevents directories with a common name, such as string, unintentionally hiding valid modules that occur \n",
    "later on the module search path. In the simplest case, __init__.py can just be an empty file, but it can also\n",
    "execute initialization code for the package or set the __all__ variable, described later.\n",
    "\"\"\""
   ]
  },
  {
   "cell_type": "code",
   "execution_count": null,
   "metadata": {},
   "outputs": [],
   "source": [
    "\"\"\"\n",
    " if a package’s __init__.py code defines a list named __all__, it is taken to be the list of module\n",
    " names that should be imported when from package import * is encountered. It is up to the package author\n",
    " to keep this list up-to-date when a new version of the package is released. Package authors may also decide\n",
    " not to support it, if they don’t see a use for importing * from their package. For example,\n",
    " the file sound/effects/__init__.py could contain the following code:\n",
    "\n",
    "__all__ = [\"echo\", \"surround\", \"reverse\"]\n",
    "\"\"\""
   ]
  },
  {
   "cell_type": "code",
   "execution_count": null,
   "metadata": {},
   "outputs": [],
   "source": [
    "\"\"\"\n",
    "If __all__ is not defined, the statement from sound.effects import * does not import all submodules\n",
    "from the package sound.effects into the current namespace; it only ensures that the package sound.effects \n",
    "has been imported (possibly running any initialization code in __init__.py) and then imports whatever names are\n",
    "defined in the package. This includes any names defined (and submodules explicitly loaded) by __init__.py.\n",
    "It also includes any sub\n",
    "\"\"\""
   ]
  }
 ],
 "metadata": {
  "kernelspec": {
   "display_name": "Python 3",
   "language": "python",
   "name": "python3"
  },
  "language_info": {
   "codemirror_mode": {
    "name": "ipython",
    "version": 3
   },
   "file_extension": ".py",
   "mimetype": "text/x-python",
   "name": "python",
   "nbconvert_exporter": "python",
   "pygments_lexer": "ipython3",
   "version": "3.8.5"
  }
 },
 "nbformat": 4,
 "nbformat_minor": 4
}
