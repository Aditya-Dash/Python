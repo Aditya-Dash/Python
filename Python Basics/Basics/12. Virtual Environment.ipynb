{
 "cells": [
  {
   "cell_type": "code",
   "execution_count": null,
   "metadata": {},
   "outputs": [],
   "source": []
  },
  {
   "cell_type": "code",
   "execution_count": null,
   "metadata": {},
   "outputs": [],
   "source": [
    "'''\n",
    "The solution for this problem is to create a virtual environment, a self-contained directory tree that contains \n",
    "a Python installation for a particular version of Python, plus a number of additional packages.\n",
    "\n",
    "Different applications can then use different virtual environments. To resolve the earlier example of conflicting\n",
    "requirements, application A can have its own virtual environment with version 1.0 installed while application B has \n",
    "another virtual environment with version 2.0. If application B requires a library be upgraded to version 3.0, this \n",
    "will not affect application A’s environment.\n",
    "'''"
   ]
  },
  {
   "cell_type": "code",
   "execution_count": 1,
   "metadata": {},
   "outputs": [
    {
     "data": {
      "text/plain": [
       "'\\n'"
      ]
     },
     "execution_count": 1,
     "metadata": {},
     "output_type": "execute_result"
    }
   ],
   "source": [
    "'''\n",
    "The module used to create and manage virtual environments is called venv. venv will usually install the most recent \n",
    "version of Python that you have available. If you have multiple versions of Python on your system, you can select a \n",
    "specific Python version by running python3 or whichever version you want.\n",
    "'''"
   ]
  },
  {
   "cell_type": "code",
   "execution_count": null,
   "metadata": {},
   "outputs": [],
   "source": [
    "python3 -m venv tutorial-env"
   ]
  },
  {
   "cell_type": "code",
   "execution_count": null,
   "metadata": {},
   "outputs": [],
   "source": [
    "'''\n",
    "This will create the tutorial-env directory if it doesn’t exist, and also create directories inside it containing \n",
    "a copy of the Python interpreter, the standard library, and various supporting files.\n",
    "\n",
    "A common directory location for a virtual environment is .venv. This name keeps the directory typically hidden \n",
    "in your shell and thus out of the way while giving it a name that explains why the directory exists. It also prevents \n",
    "clashing with .env environment variable definition files that some tooling supports.\n",
    "\n",
    "Once you’ve created a virtual environment, you may activate it.\n",
    "'''"
   ]
  },
  {
   "cell_type": "code",
   "execution_count": null,
   "metadata": {},
   "outputs": [],
   "source": [
    "#on Windows\n",
    "tutorial-env\\Scripts\\activate.bat"
   ]
  },
  {
   "cell_type": "code",
   "execution_count": null,
   "metadata": {},
   "outputs": [],
   "source": [
    "#on unix/MacOS\n",
    "source tutorial-env/bin/activate"
   ]
  },
  {
   "cell_type": "code",
   "execution_count": null,
   "metadata": {},
   "outputs": [],
   "source": [
    "'''\n",
    "Activating the virtual environment will change your shell’s prompt to show what virtual environment you’re using,\n",
    "and modify the environment so that running python will get you that particular version and installation of Python. \n",
    "For example:\n",
    "'''"
   ]
  },
  {
   "cell_type": "code",
   "execution_count": null,
   "metadata": {},
   "outputs": [],
   "source": [
    " source ~/envs/tutorial-env/bin/activate"
   ]
  }
 ],
 "metadata": {
  "kernelspec": {
   "display_name": "Python 3",
   "language": "python",
   "name": "python3"
  },
  "language_info": {
   "codemirror_mode": {
    "name": "ipython",
    "version": 3
   },
   "file_extension": ".py",
   "mimetype": "text/x-python",
   "name": "python",
   "nbconvert_exporter": "python",
   "pygments_lexer": "ipython3",
   "version": "3.8.5"
  }
 },
 "nbformat": 4,
 "nbformat_minor": 4
}
