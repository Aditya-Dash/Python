{
 "cells": [
  {
   "cell_type": "code",
   "execution_count": 1,
   "metadata": {},
   "outputs": [],
   "source": [
    "                                            #CLASSES"
   ]
  },
  {
   "cell_type": "code",
   "execution_count": null,
   "metadata": {},
   "outputs": [],
   "source": [
    "'''\n",
    "Classes provide a means of bundling data and functionality together. Creating a new class creates a new type of object,\n",
    "allowing new instances of that type to be made. Each class instance can have attributes attached to it for maintaining \n",
    "its state. Class instances can also have methods (defined by its class) for modifying its state.\n",
    "\n",
    " Python classes provide all the standard features of Object Oriented Programming: the class inheritance mechanism\n",
    " allows multiple base classes, a derived class can override any methods of its base class or classes, and a method \n",
    " can call the method of a base class with the same name. Objects can contain arbitrary amounts and kinds of data.\n",
    " \n",
    " As is true for modules, classes partake of the dynamic nature of Python: they are created at runtime, and can be\n",
    " modified further after creation.\n",
    "'''"
   ]
  },
  {
   "cell_type": "code",
   "execution_count": null,
   "metadata": {},
   "outputs": [],
   "source": [
    "'''\n",
    "The namespace containing the built-in names is created when the Python interpreter starts up, and is never deleted.\n",
    "The global namespace for a module is created when the module definition is read in; normally, module namespaces also \n",
    "last until the interpreter quits.\n",
    "\n",
    "The statements executed by the top-level invocation of the interpreter, either read from a script file or interactively,\n",
    "are considered part of a module called __main__, so they have their own global namespace. \n",
    "(The built-in names actually also live in a module; this is called builtins.)\n",
    "\n",
    "\n",
    "The local namespace for a function is created when the function is called, and deleted when the function \n",
    "returns or raises an exception that is not handled within the function. \n",
    "'''"
   ]
  },
  {
   "cell_type": "code",
   "execution_count": null,
   "metadata": {},
   "outputs": [],
   "source": [
    "'''\n",
    "A scope is a textual region of a Python program where a namespace is directly accessible. “Directly accessible” here\n",
    "means that an unqualified reference to a name attempts to find the name in the namespace.\n",
    "\n",
    "Although scopes are determined statically, they are used dynamically. At any time during execution, \n",
    "there are 3 or 4 nested scopes whose namespaces are directly accessible:\n",
    "\n",
    "the innermost scope, which is searched first, contains the local names\n",
    "\n",
    "the scopes of any enclosing functions, which are searched starting with the nearest enclosing scope, contains non-local, but also non-global names\n",
    "\n",
    "the next-to-last scope contains the current module’s global names\n",
    "\n",
    "the outermost scope (searched last) is the namespace containing built-in names\n",
    "\n",
    "'''"
   ]
  },
  {
   "cell_type": "code",
   "execution_count": null,
   "metadata": {},
   "outputs": [],
   "source": [
    "'''\n",
    "If a name is declared global, then all references and assignments go directly to the middle scope\n",
    "containing the module’s global names. To rebind variables found outside of the innermost scope, \n",
    "the nonlocal statement can be used; if not declared nonlocal, those variables are read-only (an attempt to write \n",
    "to such a variable will simply create a new local variable in the innermost scope, leaving the identically named \n",
    "outer variable unchanged).\n",
    "\n",
    "\n",
    "A special quirk of Python is that – if no global or nonlocal statement is in effect – assignments to names \n",
    "always go into the innermost scope. Assignments do not copy data — they just bind names to objects. The same \n",
    "is true for deletions: the statement del x removes the binding of x from the namespace referenced by the local scope.\n",
    "\n",
    "'''"
   ]
  }
 ],
 "metadata": {
  "kernelspec": {
   "display_name": "Python 3",
   "language": "python",
   "name": "python3"
  },
  "language_info": {
   "codemirror_mode": {
    "name": "ipython",
    "version": 3
   },
   "file_extension": ".py",
   "mimetype": "text/x-python",
   "name": "python",
   "nbconvert_exporter": "python",
   "pygments_lexer": "ipython3",
   "version": "3.8.5"
  }
 },
 "nbformat": 4,
 "nbformat_minor": 4
}
