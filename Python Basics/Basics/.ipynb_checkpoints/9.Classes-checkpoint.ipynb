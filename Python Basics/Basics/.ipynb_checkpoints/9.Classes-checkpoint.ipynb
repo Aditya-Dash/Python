{
 "cells": [
  {
   "cell_type": "code",
   "execution_count": 1,
   "metadata": {},
   "outputs": [],
   "source": [
    "                                            #CLASSES"
   ]
  },
  {
   "cell_type": "code",
   "execution_count": null,
   "metadata": {},
   "outputs": [],
   "source": [
    "'''\n",
    "Classes provide a means of bundling data and functionality together. Creating a new class creates a new type of object,\n",
    "allowing new instances of that type to be made. Each class instance can have attributes attached to it for maintaining \n",
    "its state. Class instances can also have methods (defined by its class) for modifying its state.\n",
    "\n",
    " Python classes provide all the standard features of Object Oriented Programming: the class inheritance mechanism\n",
    " allows multiple base classes, a derived class can override any methods of its base class or classes, and a method \n",
    " can call the method of a base class with the same name. Objects can contain arbitrary amounts and kinds of data.\n",
    " \n",
    " As is true for modules, classes partake of the dynamic nature of Python: they are created at runtime, and can be\n",
    " modified further after creation.\n",
    "'''"
   ]
  },
  {
   "cell_type": "code",
   "execution_count": null,
   "metadata": {},
   "outputs": [],
   "source": [
    "'''\n",
    "The namespace containing the built-in names is created when the Python interpreter starts up, and is never deleted.\n",
    "The global namespace for a module is created when the module definition is read in; normally, module namespaces also \n",
    "last until the interpreter quits.\n",
    "\n",
    "The statements executed by the top-level invocation of the interpreter, either read from a script file or interactively,\n",
    "are considered part of a module called __main__, so they have their own global namespace. \n",
    "(The built-in names actually also live in a module; this is called builtins.)\n",
    "\n",
    "\n",
    "The local namespace for a function is created when the function is called, and deleted when the function \n",
    "returns or raises an exception that is not handled within the function. \n",
    "'''"
   ]
  },
  {
   "cell_type": "code",
   "execution_count": null,
   "metadata": {},
   "outputs": [],
   "source": [
    "'''\n",
    "A scope is a textual region of a Python program where a namespace is directly accessible. “Directly accessible” here\n",
    "means that an unqualified reference to a name attempts to find the name in the namespace.\n",
    "\n",
    "Although scopes are determined statically, they are used dynamically. At any time during execution, \n",
    "there are 3 or 4 nested scopes whose namespaces are directly accessible:\n",
    "\n",
    "the innermost scope, which is searched first, contains the local names\n",
    "\n",
    "the scopes of any enclosing functions, which are searched starting with the nearest enclosing scope, contains non-local, but also non-global names\n",
    "\n",
    "the next-to-last scope contains the current module’s global names\n",
    "\n",
    "the outermost scope (searched last) is the namespace containing built-in names\n",
    "\n",
    "'''"
   ]
  },
  {
   "cell_type": "code",
   "execution_count": null,
   "metadata": {},
   "outputs": [],
   "source": [
    "'''\n",
    "If a name is declared global, then all references and assignments go directly to the middle scope\n",
    "containing the module’s global names. To rebind variables found outside of the innermost scope, \n",
    "the nonlocal statement can be used; if not declared nonlocal, those variables are read-only (an attempt to write \n",
    "to such a variable will simply create a new local variable in the innermost scope, leaving the identically named \n",
    "outer variable unchanged).\n",
    "\n",
    "\n",
    "A special quirk of Python is that – if no global or nonlocal statement is in effect – assignments to names \n",
    "always go into the innermost scope. Assignments do not copy data — they just bind names to objects. The same \n",
    "is true for deletions: the statement del x removes the binding of x from the namespace referenced by the local scope.\n",
    "\n",
    "'''"
   ]
  },
  {
   "cell_type": "code",
   "execution_count": 3,
   "metadata": {},
   "outputs": [
    {
     "name": "stdout",
     "output_type": "stream",
     "text": [
      "After local assignment:  test spam\n",
      "After nonlocal assignment:  nonlocal spam\n",
      "After global assignment: nonlocal spam\n",
      "In global scope: global spam\n"
     ]
    }
   ],
   "source": [
    "def scope_test():\n",
    "    def do_local():\n",
    "        spam = \"local_spam\"\n",
    "    \n",
    "    def do_nonlocal():\n",
    "        nonlocal spam \n",
    "        spam = \"nonlocal spam\"\n",
    "        \n",
    "    def do_global():\n",
    "        global spam\n",
    "        spam = \"global spam\"\n",
    "    \n",
    "    spam = \"test spam\"\n",
    "    do_local()\n",
    "    print(\"After local assignment: \", spam)\n",
    "    do_nonlocal()\n",
    "    print(\"After nonlocal assignment: \", spam)\n",
    "    do_global()\n",
    "    print(\"After global assignment:\", spam)\n",
    "    \n",
    "scope_test()\n",
    "print(\"In global scope:\", spam)"
   ]
  },
  {
   "cell_type": "code",
   "execution_count": 7,
   "metadata": {},
   "outputs": [
    {
     "name": "stdout",
     "output_type": "stream",
     "text": [
      "Class attributes:  32\n",
      "Class functions:  <function MyClass.func at 0x000001EE63CA7430>\n",
      "Class documentation:  A simple example class\n"
     ]
    }
   ],
   "source": [
    "class MyClass:\n",
    "    \"\"\"A simple example class\"\"\"\n",
    "    \n",
    "    i = 32\n",
    "    \n",
    "    def func(self):\n",
    "        return \"hello world\"\n",
    "print(\"Class attributes: \", MyClass.i)\n",
    "print(\"Class functions: \", MyClass.func)\n",
    "print(\"Class documentation: \", MyClass.__doc__)\n",
    "x = MyClass() #default __init__ method"
   ]
  },
  {
   "cell_type": "code",
   "execution_count": 8,
   "metadata": {},
   "outputs": [
    {
     "data": {
      "text/plain": [
       "(3.0, -4.5)"
      ]
     },
     "execution_count": 8,
     "metadata": {},
     "output_type": "execute_result"
    }
   ],
   "source": [
    "class Complex:\n",
    "    def __init__(self, realpart, imagpart):\n",
    "        self.r = realpart\n",
    "        self.i = imagpart\n",
    "x = Complex(3.0, -4.5)\n",
    "x.r, x.i\n",
    "        "
   ]
  },
  {
   "cell_type": "code",
   "execution_count": 10,
   "metadata": {},
   "outputs": [
    {
     "name": "stdout",
     "output_type": "stream",
     "text": [
      "Canine\n",
      "Canine\n",
      "Fido\n",
      "Buddy\n"
     ]
    }
   ],
   "source": [
    "class Dog:\n",
    "    \n",
    "    kind = 'Canine'\n",
    "    \n",
    "    def __init__(self, name):\n",
    "        self.name = name\n",
    "        \n",
    "d = Dog(\"Fido\")\n",
    "e = Dog(\"Buddy\")\n",
    "\n",
    "print(d.kind)\n",
    "print(e.kind)\n",
    "print(d.name)\n",
    "print(e.name)"
   ]
  },
  {
   "cell_type": "code",
   "execution_count": 11,
   "metadata": {},
   "outputs": [
    {
     "data": {
      "text/plain": [
       "['roll over', 'play dead']"
      ]
     },
     "execution_count": 11,
     "metadata": {},
     "output_type": "execute_result"
    }
   ],
   "source": [
    "class Dog:\n",
    "\n",
    "    tricks = []\n",
    "\n",
    "    def __init__(self, name):\n",
    "        self.name = name\n",
    "\n",
    "    def add_trick(self, trick):\n",
    "        self.tricks.append(trick)\n",
    "\n",
    "d = Dog('Fido')\n",
    "e = Dog('Buddy')\n",
    "d.add_trick('roll over')\n",
    "e.add_trick('play dead')\n",
    "d.tricks"
   ]
  },
  {
   "cell_type": "code",
   "execution_count": 12,
   "metadata": {},
   "outputs": [
    {
     "data": {
      "text/plain": [
       "['roll over']"
      ]
     },
     "execution_count": 12,
     "metadata": {},
     "output_type": "execute_result"
    }
   ],
   "source": [
    "#Correct instantiation\n",
    "class Dog:\n",
    "\n",
    "    tricks = []\n",
    "\n",
    "    def __init__(self, name):\n",
    "        self.name = name\n",
    "        self.tricks = []\n",
    "\n",
    "    def add_trick(self, trick):\n",
    "        self.tricks.append(trick)\n",
    "        \n",
    "d = Dog('Fido')\n",
    "e = Dog('Buddy')\n",
    "d.add_trick('roll over')\n",
    "e.add_trick('play dead')\n",
    "d.tricks        "
   ]
  },
  {
   "cell_type": "code",
   "execution_count": null,
   "metadata": {},
   "outputs": [],
   "source": [
    "'''\n",
    "Python has two built-in functions that work with inheritance:\n",
    "\n",
    "Use isinstance() to check an instance’s type: isinstance(obj, int) will be True only \n",
    "if obj.__class__ is int or some class derived from int.\n",
    "\n",
    "Use issubclass() to check class inheritance: issubclass(bool, int) is True since bool is a \n",
    "subclass of int. However, issubclass(float, int) is False since float is not a subclass of int.\n",
    "\n",
    "'''"
   ]
  },
  {
   "cell_type": "code",
   "execution_count": null,
   "metadata": {},
   "outputs": [],
   "source": [
    "                                                #MULTIPLE INHERITANCE\n",
    "    \n",
    "'''\n",
    "\n",
    "Dynamic ordering is necessary because all cases of multiple inheritance exhibit one or more diamond \n",
    "relationships (where at least one of the parent classes can be accessed through multiple paths from \n",
    "the bottommost class). For example, all classes inherit from object, so any case of multiple inheritance provides\n",
    "more than one path to reach object. To keep the base classes from being accessed more than once, the dynamic algorithm \n",
    "linearizes the search order in a way that preserves the left-to-right ordering specified in each class, that calls \n",
    "each parent only once, and that is monotonic (meaning that a class can be subclassed without affecting the precedence \n",
    "order of its parents). Taken together, these properties make it possible to design reliable and extensible classes \n",
    "with multiple inheritance.\n",
    "\n",
    "'''"
   ]
  },
  {
   "cell_type": "code",
   "execution_count": null,
   "metadata": {},
   "outputs": [],
   "source": [
    "                                                #PRIVATE VARIABLE\n",
    "'''\n",
    "a name prefixed with an underscore (e.g. _spam) should be treated as a non-public part of the API (whether it \n",
    "is a function, a method or a data member). It should be considered an implementation detail and subject to \n",
    "change without notice.\n",
    "'''"
   ]
  },
  {
   "cell_type": "code",
   "execution_count": null,
   "metadata": {},
   "outputs": [],
   "source": [
    "'''\n",
    "\n",
    "Since there is a valid use-case for class-private members (namely to avoid name clashes of names with names defined \n",
    "by subclasses), there is limited support for such a mechanism, called name mangling. Any identifier of the form __spam\n",
    "(at least two leading underscores, at most one trailing underscore) is textually replaced with _classname__spam, where\n",
    "classname is the current class name with leading underscore(s) stripped. This mangling is done without regard to the \n",
    "syntactic position of the identifier, as long as it occurs within the definition of a class.\n",
    "\n",
    "'''"
   ]
  },
  {
   "cell_type": "code",
   "execution_count": null,
   "metadata": {},
   "outputs": [],
   "source": [
    "class Mapping:\n",
    "    def __init__(self, iterable):\n",
    "        self.items_list = []\n",
    "        self.__update(iterable)\n",
    "        \n",
    "    def update(self, iterable):\n",
    "        for item in iterable:\n",
    "            self.items_list.append(item)\n",
    "    \n",
    "    __update = update # private copy of original update method\n",
    "    \n",
    "class MappingSubclass(Mapping):\n",
    "    def update(self, keys, values):\n",
    "        #provides a new signature for update()\n",
    "        # but does not break __init__()\n",
    "        \n",
    "        for item in zip(keys, values):\n",
    "            self.items_list.append(item)"
   ]
  }
 ],
 "metadata": {
  "kernelspec": {
   "display_name": "Python 3",
   "language": "python",
   "name": "python3"
  },
  "language_info": {
   "codemirror_mode": {
    "name": "ipython",
    "version": 3
   },
   "file_extension": ".py",
   "mimetype": "text/x-python",
   "name": "python",
   "nbconvert_exporter": "python",
   "pygments_lexer": "ipython3",
   "version": "3.8.5"
  }
 },
 "nbformat": 4,
 "nbformat_minor": 4
}
