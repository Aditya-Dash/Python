{
 "cells": [
  {
   "cell_type": "code",
   "execution_count": 8,
   "metadata": {},
   "outputs": [
    {
     "name": "stdout",
     "output_type": "stream",
     "text": [
      "[[0, 0], [0, 1], [1, 0]]\n"
     ]
    }
   ],
   "source": [
    "x = 1\n",
    "y = 1\n",
    "n = 2\n",
    "ar = []\n",
    "p = 0\n",
    "for i in range ( x + 1 ) :\n",
    "    for j in range( y + 1):\n",
    "        if i+j != n:\n",
    "            ar.append([])\n",
    "            ar[p] = [ i , j ]\n",
    "            p+=1 \n",
    "print(ar)"
   ]
  },
  {
   "cell_type": "code",
   "execution_count": 10,
   "metadata": {},
   "outputs": [
    {
     "name": "stdout",
     "output_type": "stream",
     "text": [
      "[[0, 0], [0, 1], [1, 0]]\n"
     ]
    }
   ],
   "source": [
    "x = 1\n",
    "y = 1\n",
    "n = 2\n",
    "print( [ [ i, j] for i in range( x + 1) for j in range( y + 1) if ( ( i + j ) != n )])"
   ]
  },
  {
   "cell_type": "code",
   "execution_count": 12,
   "metadata": {},
   "outputs": [
    {
     "name": "stdout",
     "output_type": "stream",
     "text": [
      "[[0, 0, 0], [0, 0, 1], [0, 1, 0], [1, 0, 0], [1, 1, 1]]\n"
     ]
    }
   ],
   "source": [
    "x = 1\n",
    "y = 1\n",
    "z = 1\n",
    "n = 2\n",
    "print([ [i, j, k] for i in range(x + 1) for j in range(y + 1) for k in range(z + 1) if (i + j + k) != n ])"
   ]
  },
  {
   "cell_type": "code",
   "execution_count": 59,
   "metadata": {},
   "outputs": [
    {
     "name": "stdout",
     "output_type": "stream",
     "text": [
      "1 1 1 1\n"
     ]
    }
   ],
   "source": [
    "n = 1\n",
    "width = len(\"{0:b}\".format(n))\n",
    "for i in range(1,n+1):\n",
    "  print (\"{0:{width}d} {0:{width}o} {0:{width}X} {0:{width}b}\".format(i, width=width))"
   ]
  },
  {
   "cell_type": "code",
   "execution_count": 57,
   "metadata": {},
   "outputs": [
    {
     "name": "stdout",
     "output_type": "stream",
     "text": [
      "4\n"
     ]
    }
   ],
   "source": [
    "width = len(\"{0:b}\".format(10))\n",
    "print(width)"
   ]
  },
  {
   "cell_type": "code",
   "execution_count": 3,
   "metadata": {},
   "outputs": [
    {
     "data": {
      "text/plain": [
       "4"
      ]
     },
     "execution_count": 3,
     "metadata": {},
     "output_type": "execute_result"
    }
   ],
   "source": [
    "\"ABCDCDC\".rfind(\"CDC\")"
   ]
  },
  {
   "cell_type": "code",
   "execution_count": 5,
   "metadata": {},
   "outputs": [
    {
     "data": {
      "text/plain": [
       "'ABC'"
      ]
     },
     "execution_count": 5,
     "metadata": {},
     "output_type": "execute_result"
    }
   ],
   "source": [
    "\"ABCDCDC\"[0:3]"
   ]
  },
  {
   "cell_type": "code",
   "execution_count": 7,
   "metadata": {},
   "outputs": [
    {
     "data": {
      "text/plain": [
       "'DCD'"
      ]
     },
     "execution_count": 7,
     "metadata": {},
     "output_type": "execute_result"
    }
   ],
   "source": [
    "\"ABCDCDC\"[3:6]"
   ]
  },
  {
   "cell_type": "code",
   "execution_count": 27,
   "metadata": {},
   "outputs": [
    {
     "name": "stdout",
     "output_type": "stream",
     "text": [
      "ABCDC\n",
      "ABCDCD\n",
      "ABCDCDC\n",
      "2\n"
     ]
    }
   ],
   "source": [
    "base = \"ABCDCDC\"\n",
    "find = \"CDC\"\n",
    "indexes = set()\n",
    "for i in range(1,len(base)+ 1):\n",
    "    if(base[:i].rfind(find) != -1):\n",
    "        indexes.add(base[:i].rfind(find))\n",
    "print(len(indexes))  \n"
   ]
  },
  {
   "cell_type": "code",
   "execution_count": 37,
   "metadata": {},
   "outputs": [
    {
     "name": "stdout",
     "output_type": "stream",
     "text": [
      "<class 'str'>\n",
      "True\n",
      "True\n"
     ]
    }
   ],
   "source": [
    "s = \"qA2\"\n",
    "print(type(s))\n",
    "if(s.isalnum()):\n",
    "    print(s.isalnum())\n",
    "if(s.isalpha()):\n",
    "    print(s.isalpha())\n",
    "if(s.isdigit()):\n",
    "    print(s.isdigit())\n",
    "if(s.islower()):\n",
    "    print(s.islower())\n",
    "if(s.isupper()):\n",
    "    print(s.isupper())\n",
    "    \n",
    "print(str.isalnum(s))"
   ]
  },
  {
   "cell_type": "code",
   "execution_count": 41,
   "metadata": {},
   "outputs": [
    {
     "name": "stdout",
     "output_type": "stream",
     "text": [
      "True\n",
      "True\n",
      "True\n",
      "True\n",
      "True\n"
     ]
    }
   ],
   "source": [
    "str = \"qA2\"\n",
    "print (any(c.isalnum()  for c in str))\n",
    "print (any(c.isalpha() for c in str))\n",
    "print (any(c.isdigit() for c in str))\n",
    "print (any(c.islower() for c in str))\n",
    "print (any(c.isupper() for c in str))"
   ]
  },
  {
   "cell_type": "code",
   "execution_count": 42,
   "metadata": {},
   "outputs": [
    {
     "data": {
      "text/plain": [
       "['add', 'asd']"
      ]
     },
     "execution_count": 42,
     "metadata": {},
     "output_type": "execute_result"
    }
   ],
   "source": [
    "import textwrap\n",
    "\n",
    "textwrap.wrap(\"addasd\", 3)\n"
   ]
  },
  {
   "cell_type": "code",
   "execution_count": 52,
   "metadata": {},
   "outputs": [],
   "source": [
    "def wrap(string, max_width):\n",
    "    result = \"\"\n",
    "    for word in textwrap.wrap(string, max_width):\n",
    "        result += \"\\n\" + word\n",
    "    return result"
   ]
  },
  {
   "cell_type": "code",
   "execution_count": 53,
   "metadata": {},
   "outputs": [
    {
     "data": {
      "text/plain": [
       "'\\nABC\\nDEF\\nGHI\\nJKL\\nIMN\\nOQR\\nSTU\\nVWX\\nYZ'"
      ]
     },
     "execution_count": 53,
     "metadata": {},
     "output_type": "execute_result"
    }
   ],
   "source": [
    "wrap(\"ABCDEFGHIJKLIMNOQRSTUVWXYZ\", 3)"
   ]
  },
  {
   "cell_type": "code",
   "execution_count": 70,
   "metadata": {},
   "outputs": [
    {
     "name": "stdout",
     "output_type": "stream",
     "text": [
      "(1, 3) (1, 4) (2, 3) (2, 4)\n"
     ]
    }
   ],
   "source": [
    "input1  = \"1 2\".split()\n",
    "input2  = \"3 4\".split()\n",
    "out = list()\n",
    "\n",
    "for i in input1:\n",
    "    for j in input2:\n",
    "        out.append(tuple({int(i), int(j)}))\n",
    "print(* out)"
   ]
  },
  {
   "cell_type": "code",
   "execution_count": 74,
   "metadata": {},
   "outputs": [
    {
     "name": "stdout",
     "output_type": "stream",
     "text": [
      "(1, 3) (1, 4) (1, 5) (2, 3) (2, 4) (2, 5)\n"
     ]
    }
   ],
   "source": [
    "from itertools import product\n",
    "input1 = \"1 2\"\n",
    "input2 = \"3 4 5\"\n",
    "a = map(int, input1.split())\n",
    "b = map(int, input2.split())\n",
    "print(*product(a, b))"
   ]
  },
  {
   "cell_type": "code",
   "execution_count": 94,
   "metadata": {},
   "outputs": [
    {
     "name": "stdout",
     "output_type": "stream",
     "text": [
      "('A', 'C') ('A', 'H') ('A', 'K') ('C', 'A') ('C', 'H') ('C', 'K') ('H', 'A') ('H', 'C') ('H', 'K') ('K', 'A') ('K', 'C') ('K', 'H')\n"
     ]
    }
   ],
   "source": [
    "str = \"HACK\"\n",
    "sortedData = [data for data in product(list(str), list(str)) if(data[0] != data[1])]\n",
    "sortedData.sort()\n",
    "print(*sortedData)"
   ]
  },
  {
   "cell_type": "code",
   "execution_count": 126,
   "metadata": {},
   "outputs": [
    {
     "name": "stdout",
     "output_type": "stream",
     "text": [
      "AC\n",
      "AH\n",
      "AK\n",
      "CA\n",
      "CH\n",
      "CK\n",
      "HA\n",
      "HC\n",
      "HK\n",
      "KA\n",
      "KC\n",
      "KH\n"
     ]
    }
   ],
   "source": [
    "from itertools import permutations\n",
    "listD = list(permutations(list(str), 2))\n",
    "listD.sort()\n",
    "print ( *[''.join(i) for i in listD], sep = \"\\n\")"
   ]
  },
  {
   "cell_type": "code",
   "execution_count": 156,
   "metadata": {},
   "outputs": [
    {
     "name": "stdout",
     "output_type": "stream",
     "text": [
      "A\n",
      "C\n",
      "H\n",
      "K\n",
      "AC\n",
      "AH\n",
      "AK\n",
      "CH\n",
      "CK\n",
      "HK\n"
     ]
    }
   ],
   "source": [
    "from itertools import combinations\n",
    "n, k = \"HACK 2\".split()\n",
    "listD = list()\n",
    "for r in range(1, int(k)+1):\n",
    "    l = list(n)\n",
    "    l.sort()\n",
    "    tmpList = list(combinations(l, r))\n",
    "   # tmpList.sort()\n",
    "    listD.extend(tmpList)\n",
    "print( *[''.join(i) for i in listD], sep = \"\\n\")"
   ]
  },
  {
   "cell_type": "code",
   "execution_count": 11,
   "metadata": {},
   "outputs": [
    {
     "name": "stdout",
     "output_type": "stream",
     "text": [
      "AA\n",
      "AC\n",
      "AH\n",
      "AK\n",
      "CC\n",
      "CH\n",
      "CK\n",
      "HH\n",
      "HK\n",
      "KK\n"
     ]
    }
   ],
   "source": [
    "from itertools import combinations_with_replacement\n",
    "n, k = \"HACK 2\".split()\n",
    "l1 = list(n)\n",
    "l1.sort()\n",
    "tmpList1 = list(combinations_with_replacement(l1, r))\n",
    "tmpList1.sort()\n",
    "print( *[''.join(i) for i in tmpList1], sep = \"\\n\")"
   ]
  },
  {
   "cell_type": "code",
   "execution_count": 3,
   "metadata": {},
   "outputs": [
    {
     "name": "stdout",
     "output_type": "stream",
     "text": [
      "(3, 1) (1, 3) (3, 2)\n"
     ]
    }
   ],
   "source": [
    "compress = \"1222311\"\n",
    "l = list()\n",
    "for i in set(compress):\n",
    "    l.append(tuple([list(compress).count(i), int(i)]))\n",
    "print(*l)"
   ]
  },
  {
   "cell_type": "code",
   "execution_count": 11,
   "metadata": {},
   "outputs": [
    {
     "name": "stdout",
     "output_type": "stream",
     "text": [
      "1\n",
      "2 2 2\n",
      "3\n",
      "1 1\n",
      "[]\n"
     ]
    }
   ],
   "source": [
    "from itertools import groupby\n",
    "l = list()\n",
    "for i,j in groupby(compress):\n",
    "    print(*j)\n",
    "print(l)"
   ]
  },
  {
   "cell_type": "code",
   "execution_count": 1,
   "metadata": {},
   "outputs": [
    {
     "ename": "TypeError",
     "evalue": "'int' object is not iterable",
     "output_type": "error",
     "traceback": [
      "\u001b[1;31m---------------------------------------------------------------------------\u001b[0m",
      "\u001b[1;31mTypeError\u001b[0m                                 Traceback (most recent call last)",
      "\u001b[1;32m<ipython-input-1-d13c59c93545>\u001b[0m in \u001b[0;36m<module>\u001b[1;34m\u001b[0m\n\u001b[1;32m----> 1\u001b[1;33m \u001b[0mprint\u001b[0m\u001b[1;33m(\u001b[0m\u001b[0mlist\u001b[0m\u001b[1;33m(\u001b[0m\u001b[1;36m123\u001b[0m\u001b[1;33m)\u001b[0m\u001b[1;33m)\u001b[0m\u001b[1;33m\u001b[0m\u001b[1;33m\u001b[0m\u001b[0m\n\u001b[0m",
      "\u001b[1;31mTypeError\u001b[0m: 'int' object is not iterable"
     ]
    }
   ],
   "source": []
  },
  {
   "cell_type": "code",
   "execution_count": null,
   "metadata": {},
   "outputs": [],
   "source": []
  }
 ],
 "metadata": {
  "kernelspec": {
   "display_name": "Python 3",
   "language": "python",
   "name": "python3"
  },
  "language_info": {
   "codemirror_mode": {
    "name": "ipython",
    "version": 3
   },
   "file_extension": ".py",
   "mimetype": "text/x-python",
   "name": "python",
   "nbconvert_exporter": "python",
   "pygments_lexer": "ipython3",
   "version": "3.7.4"
  }
 },
 "nbformat": 4,
 "nbformat_minor": 2
}
