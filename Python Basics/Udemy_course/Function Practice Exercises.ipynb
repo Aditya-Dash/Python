{
 "cells": [
  {
   "cell_type": "code",
   "execution_count": 27,
   "metadata": {},
   "outputs": [
    {
     "name": "stdout",
     "output_type": "stream",
     "text": [
      "5\n"
     ]
    }
   ],
   "source": [
    "'''LESSER OF TWO EVENS: Write a function that returns the lesser of two given numbers\n",
    "if both numbers are even, but returns the greater if one or both numbers are odd\n",
    "lesser_of_two_evens(2,4) --> 2\n",
    "lesser_of_two_evens(2,5) --> 5'''\n",
    "\n",
    "def lesser_of_two_evens(a,b):\n",
    "    if(is_even(a) and is_even(b)):\n",
    "        return min(a,b)\n",
    "    else:\n",
    "        return max(a,b)\n",
    "        \n",
    "def is_even(n):\n",
    "    return n%2 == 0\n",
    "\n",
    "result = lesser_of_two_evens(2,5)\n",
    "print(result)"
   ]
  },
  {
   "cell_type": "code",
   "execution_count": 33,
   "metadata": {},
   "outputs": [],
   "source": [
    "'''ANIMAL CRACKERS: Write a function takes a two-word string and returns True if both words begin with same letter\n",
    "animal_crackers('Levelheaded Llama') --> True\n",
    "animal_crackers('Crazy Kangaroo') --> False'''\n",
    "def animal_crackers(text):\n",
    "    words = text.lower().split();\n",
    "    print(words)\n",
    "    return words[0][0] == words[1][0]\n"
   ]
  },
  {
   "cell_type": "code",
   "execution_count": 34,
   "metadata": {},
   "outputs": [
    {
     "name": "stdout",
     "output_type": "stream",
     "text": [
      "['crazy', 'kangaroo']\n"
     ]
    },
    {
     "data": {
      "text/plain": [
       "False"
      ]
     },
     "execution_count": 34,
     "metadata": {},
     "output_type": "execute_result"
    }
   ],
   "source": [
    "# Check\n",
    "animal_crackers('Crazy Kangaroo')\n",
    "# Check\n",
    "animal_crackers('Levelheaded Llama')"
   ]
  },
  {
   "cell_type": "code",
   "execution_count": 41,
   "metadata": {},
   "outputs": [
    {
     "data": {
      "text/plain": [
       "False"
      ]
     },
     "execution_count": 41,
     "metadata": {},
     "output_type": "execute_result"
    }
   ],
   "source": [
    "'''MAKES TWENTY: Given two integers, return True if the sum of the integers is 20 or if one of the integers is 20. If not, return False\n",
    "makes_twenty(20,10) --> True\n",
    "makes_twenty(12,8) --> True\n",
    "makes_twenty(2,3) --> False'''\n",
    "def makes_twenty(n1,n2):\n",
    "    if((n1+n2 == 20) or (n1 == 20 or n2 == 20)):\n",
    "        return True\n",
    "    else:\n",
    "        return False\n",
    "# Check\n",
    "#makes_twenty(20,10)\n",
    "# Check\n",
    "makes_twenty(2,3)"
   ]
  },
  {
   "cell_type": "code",
   "execution_count": 54,
   "metadata": {},
   "outputs": [],
   "source": [
    "'''\n",
    "OLD MACDONALD: Write a function that capitalizes the first and fourth letters of a name\n",
    "old_macdonald('macdonald') --> MacDonald\n",
    "Note: 'macdonald'.capitalize() returns 'Macdonald'\n",
    "'''\n",
    "def old_macdonald(name):\n",
    "    first_letter = name[0]\n",
    "    inbetween = name [1:3]\n",
    "    fourth_letter = name[3]\n",
    "    rest = name[4:]\n",
    "    \n",
    "    return first_letter.upper() + inbetween + fourth_letter.upper() + rest\n",
    "\n",
    "def old_macdonald2(name):\n",
    "    first_half = name[:3]\n",
    "    second_half = name[3:]\n",
    "    return first_half.capitalize() + second_half.capitalize()"
   ]
  },
  {
   "cell_type": "code",
   "execution_count": 55,
   "metadata": {},
   "outputs": [
    {
     "data": {
      "text/plain": [
       "'MacDonald'"
      ]
     },
     "execution_count": 55,
     "metadata": {},
     "output_type": "execute_result"
    }
   ],
   "source": [
    "# Check\n",
    "old_macdonald('macdonald')"
   ]
  },
  {
   "cell_type": "code",
   "execution_count": 56,
   "metadata": {},
   "outputs": [
    {
     "data": {
      "text/plain": [
       "'MacDonald'"
      ]
     },
     "execution_count": 56,
     "metadata": {},
     "output_type": "execute_result"
    }
   ],
   "source": [
    "old_macdonald2('macdonald')"
   ]
  },
  {
   "cell_type": "code",
   "execution_count": 63,
   "metadata": {},
   "outputs": [
    {
     "name": "stdout",
     "output_type": "stream",
     "text": [
      "home am I\n",
      "ready are We\n"
     ]
    }
   ],
   "source": [
    "'''\n",
    "MASTER YODA: Given a sentence, return a sentence with the words reversed\n",
    "master_yoda('I am home') --> 'home am I'\n",
    "master_yoda('We are ready') --> 'ready are We'\n",
    "\n",
    "Note: The .join() method may be useful here. The .join() method allows you to join together strings in a list with some connector string. For example, some uses of the .join() method:\n",
    "\n",
    ">>> \"--\".join(['a','b','c'])\n",
    ">>> 'a--b--c'\n",
    "\n",
    "This means if you had a list of words you wanted to turn back into a sentence, you could just join them with a single space string:\n",
    "\n",
    ">>> \" \".join(['Hello','world'])\n",
    ">>> \"Hello world\"\n",
    "'''\n",
    "\n",
    "def master_yoda(text):\n",
    "    print(\" \".join(text.split()[::-1]))\n",
    "    \n",
    "# Check\n",
    "master_yoda('I am home')\n",
    "# Check\n",
    "master_yoda('We are ready')"
   ]
  },
  {
   "cell_type": "code",
   "execution_count": 66,
   "metadata": {},
   "outputs": [
    {
     "name": "stdout",
     "output_type": "stream",
     "text": [
      "True\n",
      "False\n",
      "True\n"
     ]
    }
   ],
   "source": [
    "'''\n",
    "ALMOST THERE: Given an integer n, return True if n is within 10 of either 100 or 200\n",
    "almost_there(90) --> True\n",
    "almost_there(104) --> True\n",
    "almost_there(150) --> False\n",
    "almost_there(209) --> True\n",
    "\n",
    "NOTE: abs(num) returns the absolute value of a number\n",
    "'''\n",
    "def almost_there(n):\n",
    "    print (abs(100-n) <= 10 or abs(200-n)<= 10)\n",
    "# Check\n",
    "almost_there(104)\n",
    "# Check\n",
    "almost_there(150)\n",
    "# Check\n",
    "almost_there(209)"
   ]
  },
  {
   "cell_type": "code",
   "execution_count": 80,
   "metadata": {},
   "outputs": [
    {
     "name": "stdout",
     "output_type": "stream",
     "text": [
      "[1, 3, 3]\n",
      "True\n",
      "[1, 3, 3]\n",
      "True\n",
      "[1, 3, 1, 3]\n",
      "[3, 1, 3]\n"
     ]
    }
   ],
   "source": [
    "'''\n",
    "FIND 33:\n",
    "Given a list of ints, return True if the array contains a 3 next to a 3 somewhere.\n",
    "\n",
    "has_33([1, 3, 3]) → True\n",
    "has_33([1, 3, 1, 3]) → False\n",
    "has_33([3, 1, 3]) → False\n",
    "'''\n",
    "def has_33(nums):\n",
    "    print(nums)\n",
    "    for i in range(0, len(nums)-1):\n",
    "        if(nums[i] == 3 and nums[i+1] ==3):\n",
    "            print(True)\n",
    "            break\n",
    "        else:\n",
    "            pass\n",
    "def has_332(nums):\n",
    "    print(nums)\n",
    "    for i in range(0, len(nums)-1):\n",
    "        if nums[i:i+2] == [3,3]:\n",
    "            print(True)\n",
    "            break\n",
    "        else:\n",
    "            pass\n",
    "        \n",
    "# Check\n",
    "has_33([1, 3, 3])\n",
    "has_332([1, 3, 3])\n",
    "# Check\n",
    "has_33([1, 3, 1, 3])\n",
    "# Check\n",
    "has_33([3, 1, 3])"
   ]
  },
  {
   "cell_type": "code",
   "execution_count": 89,
   "metadata": {},
   "outputs": [
    {
     "name": "stdout",
     "output_type": "stream",
     "text": [
      "HHHeeellllllooo\n",
      "MMMiiissssssiiissssssiiippppppiii\n"
     ]
    }
   ],
   "source": [
    "'''\n",
    "PAPER DOLL: Given a string, return a string where for every character in the original there are three characters\n",
    "paper_doll('Hello') --> 'HHHeeellllllooo'\n",
    "paper_doll('Mississippi') --> 'MMMiiissssssiiippppppiii'\n",
    "'''\n",
    "\n",
    "def paper_doll(text):\n",
    "    #letters = text.split()\n",
    "    print (\"\".join(letter*3 for letter in text))\n",
    "        \n",
    "\n",
    "# Check\n",
    "paper_doll('Hello')\n",
    "# Check\n",
    "paper_doll('Mississippi')"
   ]
  },
  {
   "cell_type": "code",
   "execution_count": 99,
   "metadata": {},
   "outputs": [
    {
     "name": "stdout",
     "output_type": "stream",
     "text": [
      "5 6 7 sum = 18\n",
      "18\n",
      "9 9 9 sum = 27\n",
      "BUST\n",
      "9 9 11 sum = 29\n",
      "19\n"
     ]
    }
   ],
   "source": [
    "'''\n",
    "BLACKJACK: Given three integers between 1 and 11, if their sum is less than or equal to 21, \n",
    "return their sum. If their sum exceeds 21 and there's an eleven, \n",
    "reduce the total sum by 10. Finally, if the sum (even after adjustment) exceeds 21, return 'BUST'\n",
    "blackjack(5,6,7) --> 18\n",
    "blackjack(9,9,9) --> 'BUST'\n",
    "blackjack(9,9,11) --> 19\n",
    "'''\n",
    "\n",
    "def blackjack(a,b,c):\n",
    "    sum = a + b + c\n",
    "    print('{0} {1} {2} sum = {3}'.format(a,b,c, sum))\n",
    "    if(sum <= 21):\n",
    "        print(sum)\n",
    "    elif(sum > 21 and 11 in [a,b,c]):\n",
    "        print(sum - 10)\n",
    "    else:\n",
    "        print('BUST')\n",
    "        \n",
    "\n",
    "# Check\n",
    "blackjack(5,6,7)\n",
    "# Check\n",
    "blackjack(9,9,9)\n",
    "# Check\n",
    "blackjack(9,9,11)"
   ]
  },
  {
   "cell_type": "code",
   "execution_count": 108,
   "metadata": {},
   "outputs": [
    {
     "name": "stdout",
     "output_type": "stream",
     "text": [
      "[1, 3, 5]\n",
      "9\n",
      "[4, 5, 6, 7, 8, 9]\n",
      "9\n",
      "[2, 1, 6, 9, 11]\n",
      "14\n"
     ]
    }
   ],
   "source": [
    "'''\n",
    "SUMMER OF '69: Return the sum of the numbers in the array, except ignore sections of numbers \n",
    "starting with a 6 and extending to the next 9 (every 6 will be followed by at least one 9). Return 0 for no numbers.\n",
    "summer_69([1, 3, 5]) --> 9\n",
    "summer_69([4, 5, 6, 7, 8, 9]) --> 9\n",
    "summer_69([2, 1, 6, 9, 11]) --> 14\n",
    "'''\n",
    "def summer_69(arr):\n",
    "    print(arr)\n",
    "    if 6 in arr and 9 in arr:\n",
    "        print(sum(arr[0: arr.index(6)]) + sum(arr[arr.index(9)+1:]))\n",
    "    else:\n",
    "        print(sum(arr))\n",
    "# Check\n",
    "summer_69([1, 3, 5])\n",
    "# Check\n",
    "summer_69([4, 5, 6, 7, 8, 9])\n",
    "# Check\n",
    "summer_69([2, 1, 6, 9, 11])"
   ]
  },
  {
   "cell_type": "code",
   "execution_count": 129,
   "metadata": {},
   "outputs": [
    {
     "name": "stdout",
     "output_type": "stream",
     "text": [
      "[1, 2, 4, 0, 0, 7, 5]\n",
      "True\n",
      "[1, 0, 2, 4, 0, 5, 7]\n",
      "True\n",
      "[1, 7, 2, 0, 4, 5, 0]\n",
      "False\n"
     ]
    }
   ],
   "source": [
    "'''\n",
    "\n",
    "SPY GAME: Write a function that takes in a list of integers and returns True if it contains 007 in order\n",
    " spy_game([1,2,4,0,0,7,5]) --> True\n",
    " spy_game([1,0,2,4,0,5,7]) --> True\n",
    " spy_game([1,7,2,0,4,5,0]) --> False\n",
    "'''\n",
    "def spy_game(nums):\n",
    "    print(nums)\n",
    "    try:\n",
    "        initail_index_01 = nums.index(0)\n",
    "        initail_index_02 = nums[initail_index_01+1:].index(0)\n",
    "        initail_index_7 = nums[initail_index_01 + initail_index_02 + 1:].index(7)\n",
    "        print('True')\n",
    "    except ValueError:\n",
    "        print('False')\n",
    "    \n",
    "\n",
    "# Check\n",
    "spy_game([1,2,4,0,0,7,5])\n",
    "# Check\n",
    "spy_game([1,0,2,4,0,5,7])\n",
    "# Check\n",
    "spy_game([1,7,2,0,4,5,0])"
   ]
  },
  {
   "cell_type": "code",
   "execution_count": 145,
   "metadata": {},
   "outputs": [
    {
     "name": "stdout",
     "output_type": "stream",
     "text": [
      "checking num 3\n",
      "checking num 5\n",
      "checking num 7\n",
      "checking num 9\n",
      "checking num 11\n",
      "checking num 13\n",
      "checking num 15\n",
      "checking num 17\n",
      "checking num 19\n",
      "checking num 21\n",
      "checking num 23\n",
      "checking num 25\n",
      "checking num 27\n",
      "checking num 29\n",
      "checking num 31\n",
      "checking num 33\n",
      "checking num 35\n",
      "checking num 37\n",
      "checking num 39\n",
      "checking num 41\n",
      "checking num 43\n",
      "checking num 45\n",
      "checking num 47\n",
      "checking num 49\n",
      "checking num 51\n",
      "checking num 53\n",
      "checking num 55\n",
      "checking num 57\n",
      "checking num 59\n",
      "checking num 61\n",
      "checking num 63\n",
      "checking num 65\n",
      "checking num 67\n",
      "checking num 69\n",
      "checking num 71\n",
      "checking num 73\n",
      "checking num 75\n",
      "checking num 77\n",
      "checking num 79\n",
      "checking num 81\n",
      "checking num 83\n",
      "checking num 85\n",
      "checking num 87\n",
      "checking num 89\n",
      "checking num 91\n",
      "checking num 93\n",
      "checking num 95\n",
      "checking num 97\n",
      "checking num 99\n",
      "25\n"
     ]
    }
   ],
   "source": [
    "'''\n",
    "COUNT PRIMES: Write a function that returns the number of prime numbers that exist up to and including a given number\n",
    "count_primes(100) --> 25\n",
    "\n",
    "By convention, 0 and 1 are not prime.\n",
    "'''\n",
    "def count_primes(num):\n",
    "    if(num == 0 or num==1):\n",
    "        print('By convention, 0 and 1 are not prime.')\n",
    "    if(num == 2):\n",
    "        print('2 is the only even prime number')\n",
    "    count = 1\n",
    "    for i in range(3, num, 2):\n",
    "        print('checking num {0}'.format(i))\n",
    "        flag = True\n",
    "        for j in range(2, i):\n",
    "            if(i!=j and i%j ==0):\n",
    "               # print('failed num: {0},divisible by: {1}'.format(i,j))\n",
    "                flag = False\n",
    "        if(flag): \n",
    "            count = count + 1\n",
    "    print(count)\n",
    "# Check\n",
    "count_primes(100)"
   ]
  },
  {
   "cell_type": "code",
   "execution_count": null,
   "metadata": {},
   "outputs": [],
   "source": [
    "'''\n",
    "PRINT BIG: Write a function that takes in a single letter, and returns a 5x5 representation of that letter\n",
    "print_big('a')\n",
    "\n",
    "out:   *  \n",
    "      * *\n",
    "     *****\n",
    "     *   *\n",
    "     *   *\n",
    "HINT: Consider making a dictionary of possible patterns, and mapping the alphabet to specific \n",
    "5-line combinations of patterns.\n",
    "For purposes of this exercise, it's ok if your dictionary stops at \"E\".\n",
    "\n",
    "'''"
   ]
  }
 ],
 "metadata": {
  "kernelspec": {
   "display_name": "Python 3",
   "language": "python",
   "name": "python3"
  },
  "language_info": {
   "codemirror_mode": {
    "name": "ipython",
    "version": 3
   },
   "file_extension": ".py",
   "mimetype": "text/x-python",
   "name": "python",
   "nbconvert_exporter": "python",
   "pygments_lexer": "ipython3",
   "version": "3.7.4"
  }
 },
 "nbformat": 4,
 "nbformat_minor": 2
}
