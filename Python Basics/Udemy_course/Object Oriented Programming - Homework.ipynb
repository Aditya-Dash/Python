{
 "cells": [
  {
   "cell_type": "code",
   "execution_count": 25,
   "metadata": {},
   "outputs": [
    {
     "name": "stdout",
     "output_type": "stream",
     "text": [
      "Account Details - Owner: Jose, Available Balance: 100\n",
      "Jose\n",
      "100\n",
      "50 Deposited successfully. Available Balance: 150\n",
      "75 Withdrawal successfully. Available Balance: 75\n",
      "Withdrawals cannot exceed the available balance\n"
     ]
    }
   ],
   "source": [
    "'''\n",
    "For this challenge, create a bank account class that has two attributes:\n",
    "\n",
    "owner\n",
    "balance\n",
    "and two methods:\n",
    "\n",
    "deposit\n",
    "withdraw\n",
    "As an added requirement, withdrawals may not exceed the available balance.\n",
    "\n",
    "Instantiate your class, make several deposits and withdrawals, and test to make sure the account cant be overdrawn.\n",
    "'''\n",
    "\n",
    "class Account:\n",
    "\n",
    "    \n",
    "    def __init__(self, owner, balance = 0):\n",
    "        self.owner = owner\n",
    "        self.balance = balance\n",
    "    \n",
    "    def deposit(self, balance):\n",
    "        self.balance = self.balance + balance\n",
    "        print(f\"{balance} Deposited successfully. Available Balance: {self.balance}\")\n",
    "        return self.balance\n",
    "    \n",
    "    def withdraw(self, balance):\n",
    "        if(self.balance - balance < 0):\n",
    "            print('Withdrawals cannot exceed the available balance')\n",
    "        else:\n",
    "            self.balance = self.balance - balance\n",
    "            print(f\"{balance} Withdrawal successfully. Available Balance: {self.balance}\")\n",
    "            return self.balance\n",
    "    def __str__(self):\n",
    "        return f\"Account Details - Owner: {self.owner}, Available Balance: {self.balance}\"\n",
    "\n",
    "# 1. Instantiate the class\n",
    "acct1 = Account('Jose',100)\n",
    "\n",
    "# 2. Print the object\n",
    "print(acct1)\n",
    "\n",
    "# 3. Show the account owner attribute\n",
    "print(acct1.owner)\n",
    "\n",
    "# 4. Show the account balance attribute\n",
    "print(acct1.balance)\n",
    "\n",
    "# 5. Make a series of deposits and withdrawals\n",
    "acct1.deposit(50)\n",
    "\n",
    "acct1.withdraw(75)\n",
    "\n",
    "# 6. Make a withdrawal that exceeds the available balance\n",
    "acct1.withdraw(500)"
   ]
  },
  {
   "cell_type": "code",
   "execution_count": null,
   "metadata": {},
   "outputs": [],
   "source": []
  }
 ],
 "metadata": {
  "kernelspec": {
   "display_name": "Python 3",
   "language": "python",
   "name": "python3"
  },
  "language_info": {
   "codemirror_mode": {
    "name": "ipython",
    "version": 3
   },
   "file_extension": ".py",
   "mimetype": "text/x-python",
   "name": "python",
   "nbconvert_exporter": "python",
   "pygments_lexer": "ipython3",
   "version": "3.7.4"
  }
 },
 "nbformat": 4,
 "nbformat_minor": 2
}
