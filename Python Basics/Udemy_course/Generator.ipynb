{
 "cells": [
  {
   "cell_type": "code",
   "execution_count": 29,
   "metadata": {},
   "outputs": [
    {
     "name": "stdout",
     "output_type": "stream",
     "text": [
      "gensquares called\n",
      "gensquares loop called 0\n",
      "x is called 0\n",
      "0\n",
      "gensquares loop called 1\n",
      "x is called 1\n",
      "1\n",
      "gensquares loop called 2\n",
      "x is called 4\n",
      "4\n",
      "gensquares loop called 3\n",
      "x is called 9\n",
      "9\n",
      "gensquares loop called 4\n",
      "x is called 16\n",
      "16\n",
      "gensquares loop called 5\n",
      "x is called 25\n",
      "25\n",
      "gensquares loop called 6\n",
      "x is called 36\n",
      "36\n",
      "gensquares loop called 7\n",
      "x is called 49\n",
      "49\n",
      "gensquares loop called 8\n",
      "x is called 64\n",
      "64\n",
      "gensquares loop called 9\n",
      "x is called 81\n",
      "81\n",
      "gensquares  ends\n"
     ]
    }
   ],
   "source": [
    "'''Problem 1\n",
    "Create a generator that generates the squares of numbers up to some number N.'''\n",
    "x = range(10)\n",
    "def gensquares(N):\n",
    "    print('gensquares called')\n",
    "    for i in range(N):\n",
    "        print('gensquares loop called {}'.format(i)  )\n",
    "        yield i**2\n",
    "    print('gensquares  ends')\n",
    "\n",
    "for x in gensquares(10):\n",
    "    print('x is called {}'.format(x)  )\n",
    "    print(x)"
   ]
  },
  {
   "cell_type": "code",
   "execution_count": 28,
   "metadata": {},
   "outputs": [
    {
     "ename": "TypeError",
     "evalue": "'range' object is not an iterator",
     "output_type": "error",
     "traceback": [
      "\u001b[1;31m---------------------------------------------------------------------------\u001b[0m",
      "\u001b[1;31mTypeError\u001b[0m                                 Traceback (most recent call last)",
      "\u001b[1;32m<ipython-input-28-c7250882b923>\u001b[0m in \u001b[0;36m<module>\u001b[1;34m\u001b[0m\n\u001b[0;32m      1\u001b[0m \u001b[0mx\u001b[0m \u001b[1;33m=\u001b[0m \u001b[0mrange\u001b[0m\u001b[1;33m(\u001b[0m\u001b[1;36m0\u001b[0m\u001b[1;33m,\u001b[0m\u001b[1;36m3\u001b[0m\u001b[1;33m)\u001b[0m\u001b[1;33m\u001b[0m\u001b[1;33m\u001b[0m\u001b[0m\n\u001b[1;32m----> 2\u001b[1;33m \u001b[0mnext\u001b[0m\u001b[1;33m(\u001b[0m\u001b[0mx\u001b[0m\u001b[1;33m)\u001b[0m\u001b[1;33m\u001b[0m\u001b[1;33m\u001b[0m\u001b[0m\n\u001b[0m",
      "\u001b[1;31mTypeError\u001b[0m: 'range' object is not an iterator"
     ]
    }
   ],
   "source": [
    "x = range(0,3)\n",
    "next(x)"
   ]
  },
  {
   "cell_type": "code",
   "execution_count": null,
   "metadata": {},
   "outputs": [],
   "source": []
  }
 ],
 "metadata": {
  "kernelspec": {
   "display_name": "Python 3",
   "language": "python",
   "name": "python3"
  },
  "language_info": {
   "codemirror_mode": {
    "name": "ipython",
    "version": 3
   },
   "file_extension": ".py",
   "mimetype": "text/x-python",
   "name": "python",
   "nbconvert_exporter": "python",
   "pygments_lexer": "ipython3",
   "version": "3.8.5"
  }
 },
 "nbformat": 4,
 "nbformat_minor": 4
}
