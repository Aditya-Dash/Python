{
 "cells": [
  {
   "cell_type": "code",
   "execution_count": null,
   "metadata": {},
   "outputs": [],
   "source": [
    "myList = [1,2,3]\n",
    "help(myList.insert)"
   ]
  },
  {
   "cell_type": "code",
   "execution_count": null,
   "metadata": {},
   "outputs": [],
   "source": [
    "def even_check(num):\n",
    "    return (num % 2 == 0)\n",
    "even_check(21)"
   ]
  },
  {
   "cell_type": "code",
   "execution_count": null,
   "metadata": {},
   "outputs": [],
   "source": [
    "#RETURN TRUE IF ANY NUMBER INSIDE LIST IS EVEN\n",
    "def even_number_list(listData):\n",
    "    for num in listData:\n",
    "        if (num % 2 == 0):\n",
    "            return True\n",
    "        else:\n",
    "            pass\n",
    "def even_number_list_v2(listData):\n",
    "    for num in listData:\n",
    "        if (num % 2 == 0):\n",
    "            return True\n",
    "        else:\n",
    "            pass\n",
    "    return False\n",
    "print(even_number_list([1,5,7,8]))\n",
    "print(even_number_list_v2([1,5,7]))"
   ]
  },
  {
   "cell_type": "code",
   "execution_count": null,
   "metadata": {},
   "outputs": [],
   "source": [
    "#RETURN TRUE IF ANY NUMBER INSIDE LIST IS EVEN\n",
    "def collect_even_numbers(num_list):\n",
    "    even_numbers = [num for num in num_list if (num % 2 ==0)]\n",
    "    return even_numbers\n",
    "print(collect_even_numbers([1,5,7]))"
   ]
  },
  {
   "cell_type": "code",
   "execution_count": null,
   "metadata": {},
   "outputs": [],
   "source": [
    "work_hours = [('Adi', 320), ('Ani', 290), ('Avi', 310)]"
   ]
  },
  {
   "cell_type": "code",
   "execution_count": null,
   "metadata": {},
   "outputs": [],
   "source": [
    "def employee_check():\n",
    "    current_max_hour = 0;\n",
    "    emp_name = ''\n",
    "    for name, hour in work_hours:\n",
    "        if(hour > current_max_hour):\n",
    "            current_max_hour = hour\n",
    "            emp_name = name\n",
    "        else:\n",
    "            pass\n",
    "    return (emp_name, current_max_hour)\n",
    "#print(employee_check())\n",
    "name,hrs = employee_check()\n",
    "name"
   ]
  },
  {
   "cell_type": "code",
   "execution_count": 3,
   "metadata": {},
   "outputs": [
    {
     "name": "stdout",
     "output_type": "stream",
     "text": [
      "please enter the ball postion1\n",
      "try again!!\n",
      "['O', ' ', ' ']\n"
     ]
    }
   ],
   "source": [
    "#SHUFFLE GAME, USER INPUTS THE BALL 'O' LOCATION\n",
    "from random import shuffle\n",
    "sh_game_list = [' ', 'O', ' ']\n",
    "def guess_ball_position():\n",
    "    shuffle_ball_position()  \n",
    "    position = -1\n",
    "    while(position not in [0,1,2]):\n",
    "        position = int(input(\"please enter the ball postion\"))\n",
    "    \n",
    "    if find_ball(position):\n",
    "        print('Guessed correctly')\n",
    "    else:\n",
    "        print('try again!!')\n",
    "        print(sh_game_list)\n",
    "            \n",
    "def shuffle_ball_position():\n",
    "    shuffle(sh_game_list)\n",
    "    return sh_game_list\n",
    "\n",
    "def find_ball(postn):\n",
    "    return sh_game_list[postn] == 'O'\n",
    "   \n",
    "guess_ball_position()"
   ]
  },
  {
   "cell_type": "code",
   "execution_count": 15,
   "metadata": {},
   "outputs": [
    {
     "data": {
      "text/plain": [
       "'AdItYa'"
      ]
     },
     "execution_count": 15,
     "metadata": {},
     "output_type": "execute_result"
    }
   ],
   "source": [
    "#ALTERNATE CAPITALIZE LETTERS\n",
    "def myfunc(word):\n",
    "    result = []\n",
    "    for pos,char in enumerate(word):\n",
    "        if(pos %2 ==0):\n",
    "            result.append(char.capitalize())\n",
    "        else:\n",
    "            result.append(char.lower())\n",
    "    return ''.join(result)\n",
    "myfunc('Aditya')"
   ]
  },
  {
   "cell_type": "code",
   "execution_count": null,
   "metadata": {},
   "outputs": [],
   "source": []
  }
 ],
 "metadata": {
  "kernelspec": {
   "display_name": "Python 3",
   "language": "python",
   "name": "python3"
  },
  "language_info": {
   "codemirror_mode": {
    "name": "ipython",
    "version": 3
   },
   "file_extension": ".py",
   "mimetype": "text/x-python",
   "name": "python",
   "nbconvert_exporter": "python",
   "pygments_lexer": "ipython3",
   "version": "3.7.4"
  }
 },
 "nbformat": 4,
 "nbformat_minor": 2
}
